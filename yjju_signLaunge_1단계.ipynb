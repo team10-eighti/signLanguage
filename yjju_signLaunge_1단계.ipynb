{
 "cells": [
  {
   "cell_type": "code",
   "execution_count": 1,
   "metadata": {},
   "outputs": [],
   "source": [
    "import requests"
   ]
  },
  {
   "cell_type": "code",
   "execution_count": 12,
   "metadata": {},
   "outputs": [
    {
     "name": "stdout",
     "output_type": "stream",
     "text": [
      "된장찌개를 수화로 표현하는 방법은 다음과 같습니다: 오른손의 손가락을 왼손의 5지와 1·2·3·4지 사이에 넣고 오른손 등이 스치게 번 다음, 손바닥이 위로 향하게 해서 약간 구부린 왼손 위에서 같은 모양의 오른손을 두 번 오르내립니다 [doc1].\n",
      "['음식', '손끝이 아래로 향하게 구부린 오른손의 손가락을 왼손의 5지와 1·2·3·4지 사이에 넣고 오른손 등이 스치게 뺀 다음, 손바닥이 위로 향하게 펴서 약간 구부린 왼손 밑에서 같은 모양의 오른손을 두 번 오르내린다.', 'http://sldict.korean.go.kr/multimedia/multimedia_files/convert/20201224/791296/IMG000357950_700X466.jpg http://sldict.korean.go.kr/multimedia/multimedia_files/convert/20151126/217119/IMG000208379_700X466.jpg', 'http://sldict.korean.go.kr/multimedia/multimedia_files/convert/20201210/784487/MOV000356911_700X466.mp4', '된장찌개']\n"
     ]
    }
   ],
   "source": [
    "def request_gpt(user_text, temperature=0.7, top_p=0.95, max_tokens=800):\n",
    "\n",
    "    # endpoint\n",
    "    # method\n",
    "    # header\n",
    "    # payload\n",
    "\n",
    "    api_base=\"https://team10-eighti.openai.azure.com\" \n",
    "    deployment_id=\"gpt-4o\"  \n",
    "    endpoint = f\"{api_base}/openai/deployments/{deployment_id}/chat/completions?api-version=2024-08-01-preview\"\n",
    "    api_key = '1BajXTI5Mp0tKrs46XFGuOWjSPXKzOZSKy8e6R3qha1SVQ4lz1PFJQQJ99ALACYeBjFXJ3w3AAABACOGgPvw'\n",
    "    \n",
    "    search_endpoint=\"https://team10-eighti-search.search.windows.net\"\n",
    "    search_key = 'wnalAsW6FqKRHIR6S3sUZGzNH28Lf3sBOS2ubCZsZxAzSeA205k3'\n",
    "    search_index=\"sign-index\"\n",
    "    semantic_name = \"sign-semantic\"\n",
    "\n",
    "    method = requests.post\n",
    "    headers = {\n",
    "        \"Content-Type\": \"application.json\",\n",
    "        \"api-key\": api_key\n",
    "    }\n",
    "    payload = {\n",
    "        \"messages\": [\n",
    "            {\n",
    "                \"role\": \"system\",\n",
    "                \"content\": \"당신은 사용자가 수화 정보를 찾는데 도움을 주는 수화 AI 도우미입니다.\"\n",
    "            },\n",
    "            {\n",
    "                \"role\": \"user\",\n",
    "                \"content\": user_text\n",
    "            }\n",
    "        ],\n",
    "        \"temperature\": temperature,\n",
    "        \"top_p\": top_p,\n",
    "        \"frequency_penalty\": 0,\n",
    "        \"presence_penalty\": 0,\n",
    "        \"max_tokens\": max_tokens,\n",
    "        \"stop\": None,\n",
    "        \"data_sources\": [\n",
    "            {\n",
    "                \"type\": \"azure_search\",\n",
    "                \"parameters\": {\n",
    "                    \"endpoint\": search_endpoint,\n",
    "                    \"index_name\": search_index,\n",
    "                    \"semantic_configuration\": semantic_name,\n",
    "                    \"query_type\": \"semantic\",\n",
    "                    \"fields_mapping\": {},\n",
    "                    \"filter\": None,\n",
    "                    \"top_n_documents\": 5,\n",
    "                    \"authentication\": {\n",
    "                        \"type\": \"api_key\",\n",
    "                        \"key\": search_key\n",
    "                    }\n",
    "                }\n",
    "            }\n",
    "        ]\n",
    "    }\n",
    "\n",
    "    response = requests.post(endpoint, headers=headers, json=payload)\n",
    "    # print(response.status_code)\n",
    "    # print(response.text)\n",
    "\n",
    "    if response.status_code == 200:\n",
    "        response_json = response.json()\n",
    "        content_text = response_json['choices'][0]['message']['content']\n",
    "        citations = response_json['choices'][0]['message']['context']['citations'][0]['content'].split('\\n')\n",
    "        return content_text, citations\n",
    "    else:\n",
    "        return \"\"\n",
    "\n",
    "content_text, citations_list = request_gpt(\"된장찌개가 수화로 어떻게 돼?\", temperature=0.7, top_p=0.95, max_tokens=800)\n",
    "\n",
    "print(content_text)\n",
    "print(citations_list)\n"
   ]
  }
 ],
 "metadata": {
  "kernelspec": {
   "display_name": "Python 3",
   "language": "python",
   "name": "python3"
  },
  "language_info": {
   "codemirror_mode": {
    "name": "ipython",
    "version": 3
   },
   "file_extension": ".py",
   "mimetype": "text/x-python",
   "name": "python",
   "nbconvert_exporter": "python",
   "pygments_lexer": "ipython3",
   "version": "3.12.5"
  }
 },
 "nbformat": 4,
 "nbformat_minor": 2
}
